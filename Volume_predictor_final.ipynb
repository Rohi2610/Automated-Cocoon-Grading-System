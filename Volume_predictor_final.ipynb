{
 "cells": [
  {
   "cell_type": "code",
   "execution_count": 14,
   "id": "93e6f232-8f2a-4b1b-a7a3-50b081f56fe9",
   "metadata": {
    "tags": []
   },
   "outputs": [],
   "source": [
    "import joblib\n",
    "import numpy as np\n",
    "import pandas as pd\n",
    "from sklearn.model_selection import KFold, learning_curve\n",
    "from sklearn.linear_model import LinearRegression, Lasso\n",
    "from sklearn.metrics import mean_squared_error, r2_score, make_scorer\n",
    "import matplotlib.pyplot as plt\n",
    "from sklearn.model_selection import GridSearchCV\n"
   ]
  },
  {
   "cell_type": "code",
   "execution_count": 2,
   "id": "efbf5d48-d6ae-45fc-bb98-d3c0ea17e34f",
   "metadata": {
    "tags": []
   },
   "outputs": [
    {
     "data": {
      "text/html": [
       "<div>\n",
       "<style scoped>\n",
       "    .dataframe tbody tr th:only-of-type {\n",
       "        vertical-align: middle;\n",
       "    }\n",
       "\n",
       "    .dataframe tbody tr th {\n",
       "        vertical-align: top;\n",
       "    }\n",
       "\n",
       "    .dataframe thead th {\n",
       "        text-align: right;\n",
       "    }\n",
       "</style>\n",
       "<table border=\"1\" class=\"dataframe\">\n",
       "  <thead>\n",
       "    <tr style=\"text-align: right;\">\n",
       "      <th></th>\n",
       "      <th>S.No.</th>\n",
       "      <th>Cocoon weight(g)</th>\n",
       "      <th>Cocoon length(cm)</th>\n",
       "      <th>Width(a)(cm)</th>\n",
       "      <th>Width(b)(cm)</th>\n",
       "      <th>Width Mean(cm)</th>\n",
       "      <th>Cross Sectional Area(cm2)</th>\n",
       "      <th>Volume(cm3)</th>\n",
       "      <th>Shell weight(g)</th>\n",
       "    </tr>\n",
       "  </thead>\n",
       "  <tbody>\n",
       "    <tr>\n",
       "      <th>0</th>\n",
       "      <td>1</td>\n",
       "      <td>9.35</td>\n",
       "      <td>5.01</td>\n",
       "      <td>3.00</td>\n",
       "      <td>3.01</td>\n",
       "      <td>3.005</td>\n",
       "      <td>13.113595</td>\n",
       "      <td>24.7</td>\n",
       "      <td>1.45</td>\n",
       "    </tr>\n",
       "    <tr>\n",
       "      <th>1</th>\n",
       "      <td>2</td>\n",
       "      <td>2.87</td>\n",
       "      <td>5.00</td>\n",
       "      <td>3.01</td>\n",
       "      <td>3.01</td>\n",
       "      <td>3.010</td>\n",
       "      <td>13.102078</td>\n",
       "      <td>25.3</td>\n",
       "      <td>1.17</td>\n",
       "    </tr>\n",
       "    <tr>\n",
       "      <th>2</th>\n",
       "      <td>3</td>\n",
       "      <td>8.44</td>\n",
       "      <td>5.02</td>\n",
       "      <td>3.02</td>\n",
       "      <td>3.00</td>\n",
       "      <td>3.010</td>\n",
       "      <td>13.162278</td>\n",
       "      <td>25.8</td>\n",
       "      <td>1.33</td>\n",
       "    </tr>\n",
       "    <tr>\n",
       "      <th>3</th>\n",
       "      <td>4</td>\n",
       "      <td>12.87</td>\n",
       "      <td>5.16</td>\n",
       "      <td>2.90</td>\n",
       "      <td>3.15</td>\n",
       "      <td>3.025</td>\n",
       "      <td>13.641616</td>\n",
       "      <td>31.4</td>\n",
       "      <td>1.77</td>\n",
       "    </tr>\n",
       "    <tr>\n",
       "      <th>4</th>\n",
       "      <td>5</td>\n",
       "      <td>11.28</td>\n",
       "      <td>5.00</td>\n",
       "      <td>3.05</td>\n",
       "      <td>3.20</td>\n",
       "      <td>3.125</td>\n",
       "      <td>13.525391</td>\n",
       "      <td>29.0</td>\n",
       "      <td>1.44</td>\n",
       "    </tr>\n",
       "    <tr>\n",
       "      <th>...</th>\n",
       "      <td>...</td>\n",
       "      <td>...</td>\n",
       "      <td>...</td>\n",
       "      <td>...</td>\n",
       "      <td>...</td>\n",
       "      <td>...</td>\n",
       "      <td>...</td>\n",
       "      <td>...</td>\n",
       "      <td>...</td>\n",
       "    </tr>\n",
       "    <tr>\n",
       "      <th>98</th>\n",
       "      <td>99</td>\n",
       "      <td>11.00</td>\n",
       "      <td>4.93</td>\n",
       "      <td>2.92</td>\n",
       "      <td>2.95</td>\n",
       "      <td>2.935</td>\n",
       "      <td>12.617492</td>\n",
       "      <td>26.1</td>\n",
       "      <td>1.40</td>\n",
       "    </tr>\n",
       "    <tr>\n",
       "      <th>99</th>\n",
       "      <td>100</td>\n",
       "      <td>7.55</td>\n",
       "      <td>4.90</td>\n",
       "      <td>2.80</td>\n",
       "      <td>2.84</td>\n",
       "      <td>2.820</td>\n",
       "      <td>12.108234</td>\n",
       "      <td>24.3</td>\n",
       "      <td>1.34</td>\n",
       "    </tr>\n",
       "    <tr>\n",
       "      <th>100</th>\n",
       "      <td>101</td>\n",
       "      <td>6.27</td>\n",
       "      <td>4.65</td>\n",
       "      <td>2.80</td>\n",
       "      <td>2.75</td>\n",
       "      <td>2.775</td>\n",
       "      <td>11.248116</td>\n",
       "      <td>22.2</td>\n",
       "      <td>1.87</td>\n",
       "    </tr>\n",
       "    <tr>\n",
       "      <th>101</th>\n",
       "      <td>102</td>\n",
       "      <td>8.76</td>\n",
       "      <td>4.62</td>\n",
       "      <td>2.88</td>\n",
       "      <td>2.75</td>\n",
       "      <td>2.815</td>\n",
       "      <td>11.301592</td>\n",
       "      <td>23.3</td>\n",
       "      <td>1.50</td>\n",
       "    </tr>\n",
       "    <tr>\n",
       "      <th>102</th>\n",
       "      <td>103</td>\n",
       "      <td>8.65</td>\n",
       "      <td>4.75</td>\n",
       "      <td>2.90</td>\n",
       "      <td>2.90</td>\n",
       "      <td>2.900</td>\n",
       "      <td>11.966850</td>\n",
       "      <td>20.8</td>\n",
       "      <td>0.86</td>\n",
       "    </tr>\n",
       "  </tbody>\n",
       "</table>\n",
       "<p>103 rows × 9 columns</p>\n",
       "</div>"
      ],
      "text/plain": [
       "     S.No.  Cocoon weight(g)  Cocoon length(cm)  Width(a)(cm)  Width(b)(cm)  \\\n",
       "0        1              9.35               5.01          3.00          3.01   \n",
       "1        2              2.87               5.00          3.01          3.01   \n",
       "2        3              8.44               5.02          3.02          3.00   \n",
       "3        4             12.87               5.16          2.90          3.15   \n",
       "4        5             11.28               5.00          3.05          3.20   \n",
       "..     ...               ...                ...           ...           ...   \n",
       "98      99             11.00               4.93          2.92          2.95   \n",
       "99     100              7.55               4.90          2.80          2.84   \n",
       "100    101              6.27               4.65          2.80          2.75   \n",
       "101    102              8.76               4.62          2.88          2.75   \n",
       "102    103              8.65               4.75          2.90          2.90   \n",
       "\n",
       "     Width Mean(cm)  Cross Sectional Area(cm2)  Volume(cm3)  Shell weight(g)  \n",
       "0             3.005                  13.113595         24.7             1.45  \n",
       "1             3.010                  13.102078         25.3             1.17  \n",
       "2             3.010                  13.162278         25.8             1.33  \n",
       "3             3.025                  13.641616         31.4             1.77  \n",
       "4             3.125                  13.525391         29.0             1.44  \n",
       "..              ...                        ...          ...              ...  \n",
       "98            2.935                  12.617492         26.1             1.40  \n",
       "99            2.820                  12.108234         24.3             1.34  \n",
       "100           2.775                  11.248116         22.2             1.87  \n",
       "101           2.815                  11.301592         23.3             1.50  \n",
       "102           2.900                  11.966850         20.8             0.86  \n",
       "\n",
       "[103 rows x 9 columns]"
      ]
     },
     "execution_count": 2,
     "metadata": {},
     "output_type": "execute_result"
    }
   ],
   "source": [
    "data = pd.read_csv('dataset/The_final_dataset.csv')\n",
    "data"
   ]
  },
  {
   "cell_type": "code",
   "execution_count": 19,
   "id": "d4aafe7a-3a52-4818-a581-74468658a503",
   "metadata": {
    "tags": []
   },
   "outputs": [],
   "source": [
    "X = data[['Cocoon length(cm)', 'Width Mean(cm)']].values\n",
    "y = data['Volume(cm3)'].values"
   ]
  },
  {
   "cell_type": "code",
   "execution_count": 16,
   "id": "931ef7c7-a74d-4076-ae28-2b1cacee5159",
   "metadata": {
    "tags": []
   },
   "outputs": [],
   "source": [
    "alpha_values = np.logspace(-3, 0, 100)\n",
    "model_lasso = Lasso()\n",
    "param_grid = {'alpha':alpha_values}\n",
    "mse_scoring = make_scorer(mean_squared_error, greater_is_better = False)\n",
    "r2_scoring = make_scorer(r2_score, greater_is_better = True)\n",
    "scorers = {\n",
    "    'mse': mse_scoring,\n",
    "    'r2': r2_scoring\n",
    "}\n",
    "grid_search = GridSearchCV(estimator = model_lasso, param_grid=param_grid, cv=5, scoring=scorers, refit='r2', n_jobs=-1, verbose=2)"
   ]
  },
  {
   "cell_type": "code",
   "execution_count": 20,
   "id": "ca536973-3305-4b8e-bd87-60304b56ae10",
   "metadata": {
    "tags": []
   },
   "outputs": [
    {
     "name": "stdout",
     "output_type": "stream",
     "text": [
      "Fitting 5 folds for each of 100 candidates, totalling 500 fits\n",
      "Best alpha value: {'alpha': 0.012328467394420659}\n"
     ]
    }
   ],
   "source": [
    "grid_search.fit(X, y)\n",
    "best_alpha = grid_search.best_params_\n",
    "print(f'Best alpha value: {best_alpha}')\n",
    "best_lasso_model = grid_search.best_estimator_\n"
   ]
  },
  {
   "cell_type": "code",
   "execution_count": 21,
   "id": "8117c1ed-7a72-409a-9556-2472c8d2680b",
   "metadata": {
    "tags": []
   },
   "outputs": [
    {
     "name": "stdout",
     "output_type": "stream",
     "text": [
      "Average Training Error: 4.221756997471216\n",
      "Average Validation Error: 4.946670183843585\n",
      "Average Training Error: 0.8275474125402968\n",
      "Average Validation Error: 0.7887777885304511\n"
     ]
    }
   ],
   "source": [
    "\n",
    "k = 5\n",
    "kf = KFold(n_splits=k, shuffle=True, random_state=1)\n",
    "\n",
    "# Lists to store the scores for each fold\n",
    "training_errors = []\n",
    "validation_errors = []\n",
    "training_r2 = []\n",
    "validation_r2 = []\n",
    "\n",
    "# Perform K-Fold Cross-Validation\n",
    "for train_index, val_index in kf.split(X):\n",
    "    X_train, X_val = X[train_index], X[val_index]\n",
    "    y_train, y_val = y[train_index], y[val_index]\n",
    "    \n",
    "    # Train the model\n",
    "    best_lasso_model.fit(X_train, y_train)\n",
    "    \n",
    "    # Make predictions\n",
    "    y_train_pred = best_lasso_model.predict(X_train)\n",
    "    y_val_pred = best_lasso_model.predict(X_val)\n",
    "    \n",
    "    # Calculate and store the errors\n",
    "    train_error = mean_squared_error(y_train, y_train_pred)\n",
    "    val_error = mean_squared_error(y_val, y_val_pred)\n",
    "    \n",
    "    train_r2 = r2_score(y_train, y_train_pred)\n",
    "    val_r2 = r2_score(y_val, y_val_pred)\n",
    "    \n",
    "    training_errors.append(train_error)\n",
    "    validation_errors.append(val_error)\n",
    "    \n",
    "    training_r2.append(train_r2)\n",
    "    validation_r2.append(val_r2)\n",
    "\n",
    "# Calculate average errors\n",
    "avg_train_error = np.mean(training_errors)\n",
    "avg_val_error = np.mean(validation_errors)\n",
    "\n",
    "avg_train_r2 = np.mean(training_r2)\n",
    "avg_val_r2 = np.mean(validation_r2)\n",
    "\n",
    "print(f'Average Training Error: {avg_train_error}')\n",
    "print(f'Average Validation Error: {avg_val_error}')\n",
    "\n",
    "\n",
    "print(f'Average Training Error: {avg_train_r2}')\n",
    "print(f'Average Validation Error: {avg_val_r2}')\n",
    "\n"
   ]
  },
  {
   "cell_type": "code",
   "execution_count": 22,
   "id": "fd60ed17-9366-47b8-9c2c-74839ee4bbfa",
   "metadata": {
    "tags": []
   },
   "outputs": [
    {
     "data": {
      "image/png": "[encoded data removed]",
      "text/plain": [
       "<Figure size 1000x600 with 1 Axes>"
      ]
     },
     "metadata": {},
     "output_type": "display_data"
    }
   ],
   "source": [
    "def plot_learning_curve(estimator, X, y, cv, scoring, n_jobs):\n",
    "    train_sizes, train_scores, test_scores = learning_curve(estimator, X, y, cv=cv, scoring=scoring, n_jobs=n_jobs, train_sizes=np.linspace(0.1, 1.0, 10))\n",
    "    \n",
    "    train_scores_mean = np.mean(train_scores, axis=1)\n",
    "    train_scores_std = np.std(train_scores, axis=1)\n",
    "    test_scores_mean = np.mean(test_scores, axis=1)\n",
    "    test_scores_std = np.std(test_scores, axis=1)\n",
    "\n",
    "    plt.figure(figsize=(10, 6))\n",
    "    plt.grid()\n",
    "\n",
    "    plt.fill_between(train_sizes, train_scores_mean - train_scores_std,\n",
    "                     train_scores_mean + train_scores_std, alpha=0.1,\n",
    "                     color=\"r\")\n",
    "    plt.fill_between(train_sizes, test_scores_mean - test_scores_std,\n",
    "                     test_scores_mean + test_scores_std, alpha=0.1, color=\"g\")\n",
    "    plt.plot(train_sizes, train_scores_mean, 'o-', color=\"r\",\n",
    "             label=\"Training score\")\n",
    "    plt.plot(train_sizes, test_scores_mean, 'o-', color=\"g\",\n",
    "             label=\"Cross-validation score\")\n",
    "\n",
    "    plt.xlabel(\"Training examples\")\n",
    "    plt.ylabel(\"neg_mean_squared_error\")\n",
    "    plt.title(\"Learning Curve\")\n",
    "    plt.legend(loc=\"best\")\n",
    "    plt.show()\n",
    "\n",
    "# Plotting the learning curve for Lasso regression\n",
    "plot_learning_curve(best_lasso_model, X, y, cv=5, scoring='neg_mean_squared_error', n_jobs=-1)\n",
    "\n"
   ]
  },
  {
   "cell_type": "code",
   "execution_count": 23,
   "id": "fbbb664e-abc6-4025-bde2-3123248613d8",
   "metadata": {
    "tags": []
   },
   "outputs": [
    {
     "data": {
      "text/plain": [
       "['Volume_predictor_1.joblib']"
      ]
     },
     "execution_count": 23,
     "metadata": {},
     "output_type": "execute_result"
    }
   ],
   "source": [
    "joblib.dump(best_lasso_model, \"Volume_predictor_1.joblib\")"
   ]
  },
  {
   "cell_type": "code",
   "execution_count": null,
   "id": "8ef5bfb5-562f-4ff7-af8b-dde333e59abc",
   "metadata": {},
   "outputs": [],
   "source": []
  },
  {
   "cell_type": "code",
   "execution_count": 3,
   "id": "1c9a8c59-11bc-49b7-954d-fd21134f35ec",
   "metadata": {
    "tags": []
   },
   "outputs": [
    {
     "name": "stdout",
     "output_type": "stream",
     "text": [
      "Average Training Error: 4.264521976145572\n",
      "Average Validation Error: 4.716973170741221\n",
      "Average Training Error: 0.8260413706681895\n",
      "Average Validation Error: 0.7850699475748601\n"
     ]
    }
   ],
   "source": [
    "\n",
    "X1 = data[['Cocoon length(cm)', 'Width Mean(cm)']].values\n",
    "y1 = data['Volume(cm3)'].values\n",
    "\n",
    "# Define the model\n",
    "model_LR = LinearRegression()\n",
    "\n",
    "# Define the number of folds\n",
    "k = 10\n",
    "kf = KFold(n_splits=k, shuffle=True, random_state=1)\n",
    "\n",
    "# Lists to store the scores for each fold\n",
    "training_errors = []\n",
    "validation_errors = []\n",
    "training_r2 = []\n",
    "validation_r2 = []\n",
    "\n",
    "# Perform K-Fold Cross-Validation\n",
    "for train_index, val_index in kf.split(X1):\n",
    "    X_train, X_val = X1[train_index], X1[val_index]\n",
    "    y_train, y_val = y1[train_index], y1[val_index]\n",
    "    \n",
    "    # Train the model\n",
    "    model_LR.fit(X_train, y_train)\n",
    "    \n",
    "    # Make predictions\n",
    "    y_train_pred = model_LR.predict(X_train)\n",
    "    y_val_pred = model_LR.predict(X_val)\n",
    "    \n",
    "    # Calculate and store the errors\n",
    "    train_error = mean_squared_error(y_train, y_train_pred)\n",
    "    val_error = mean_squared_error(y_val, y_val_pred)\n",
    "    \n",
    "    train_r2 = r2_score(y_train, y_train_pred)\n",
    "    val_r2 = r2_score(y_val, y_val_pred)\n",
    "    \n",
    "    training_errors.append(train_error)\n",
    "    validation_errors.append(val_error)\n",
    "    \n",
    "    training_r2.append(train_r2)\n",
    "    validation_r2.append(val_r2)\n",
    "\n",
    "# Calculate average errors\n",
    "avg_train_error = np.mean(training_errors)\n",
    "avg_val_error = np.mean(validation_errors)\n",
    "\n",
    "avg_train_r2 = np.mean(training_r2)\n",
    "avg_val_r2 = np.mean(validation_r2)\n",
    "\n",
    "print(f'Average Training Error: {avg_train_error}')\n",
    "print(f'Average Validation Error: {avg_val_error}')\n",
    "\n",
    "\n",
    "print(f'Average Training Error: {avg_train_r2}')\n",
    "print(f'Average Validation Error: {avg_val_r2}')\n",
    "\n"
   ]
  }
 ],
 "metadata": {
  "kernelspec": {
   "display_name": "Python 3 (ipykernel)",
   "language": "python",
   "name": "python3"
  },
  "language_info": {
   "codemirror_mode": {
    "name": "ipython",
    "version": 3
   },
   "file_extension": ".py",
   "mimetype": "text/x-python",
   "name": "python",
   "nbconvert_exporter": "python",
   "pygments_lexer": "ipython3",
   "version": "3.12.4"
  }
 },
 "nbformat": 4,
 "nbformat_minor": 5
}
