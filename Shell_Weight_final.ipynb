{
 "cells": [
  {
   "cell_type": "code",
   "execution_count": 5,
   "id": "1ad827ad-3217-416a-98c5-5982dcd0d4d6",
   "metadata": {
    "tags": []
   },
   "outputs": [],
   "source": [
    "import joblib\n",
    "import numpy as np\n",
    "import pandas as pd\n",
    "from sklearn.model_selection import KFold, learning_curve\n",
    "from sklearn.linear_model import LinearRegression, Lasso\n",
    "from sklearn.metrics import mean_squared_error, r2_score, make_scorer\n",
    "import matplotlib.pyplot as plt\n",
    "from sklearn.model_selection import GridSearchCV\n"
   ]
  },
  {
   "cell_type": "code",
   "execution_count": 22,
   "id": "ace31001-3682-4543-a7ce-9472c43c49a1",
   "metadata": {
    "tags": []
   },
   "outputs": [
    {
     "data": {
      "text/html": [
       "<div>\n",
       "<style scoped>\n",
       "    .dataframe tbody tr th:only-of-type {\n",
       "        vertical-align: middle;\n",
       "    }\n",
       "\n",
       "    .dataframe tbody tr th {\n",
       "        vertical-align: top;\n",
       "    }\n",
       "\n",
       "    .dataframe thead th {\n",
       "        text-align: right;\n",
       "    }\n",
       "</style>\n",
       "<table border=\"1\" class=\"dataframe\">\n",
       "  <thead>\n",
       "    <tr style=\"text-align: right;\">\n",
       "      <th></th>\n",
       "      <th>S.No.</th>\n",
       "      <th>Cocoon Weight (gm)</th>\n",
       "      <th>Cocoon length(cm)</th>\n",
       "      <th>mean width(cm)</th>\n",
       "      <th>Cross sectional Area (cm2)</th>\n",
       "      <th>Cocoon Volume (cm3)</th>\n",
       "      <th>Shell Weight (gm)</th>\n",
       "      <th>Category</th>\n",
       "    </tr>\n",
       "  </thead>\n",
       "  <tbody>\n",
       "    <tr>\n",
       "      <th>0</th>\n",
       "      <td>1</td>\n",
       "      <td>9.35</td>\n",
       "      <td>5.01</td>\n",
       "      <td>3.01</td>\n",
       "      <td>22.14</td>\n",
       "      <td>24.7</td>\n",
       "      <td>1.45</td>\n",
       "      <td>Daba RC II</td>\n",
       "    </tr>\n",
       "    <tr>\n",
       "      <th>1</th>\n",
       "      <td>2</td>\n",
       "      <td>2.87</td>\n",
       "      <td>5.00</td>\n",
       "      <td>3.01</td>\n",
       "      <td>22.16</td>\n",
       "      <td>25.3</td>\n",
       "      <td>1.17</td>\n",
       "      <td>Daba RC III</td>\n",
       "    </tr>\n",
       "    <tr>\n",
       "      <th>2</th>\n",
       "      <td>3</td>\n",
       "      <td>8.44</td>\n",
       "      <td>5.02</td>\n",
       "      <td>3.01</td>\n",
       "      <td>22.22</td>\n",
       "      <td>25.8</td>\n",
       "      <td>1.33</td>\n",
       "      <td>Daba RC II</td>\n",
       "    </tr>\n",
       "    <tr>\n",
       "      <th>3</th>\n",
       "      <td>4</td>\n",
       "      <td>12.87</td>\n",
       "      <td>5.16</td>\n",
       "      <td>3.03</td>\n",
       "      <td>22.79</td>\n",
       "      <td>31.4</td>\n",
       "      <td>1.77</td>\n",
       "      <td>Daba RC I</td>\n",
       "    </tr>\n",
       "    <tr>\n",
       "      <th>4</th>\n",
       "      <td>5</td>\n",
       "      <td>11.28</td>\n",
       "      <td>5.00</td>\n",
       "      <td>3.13</td>\n",
       "      <td>23.29</td>\n",
       "      <td>29.0</td>\n",
       "      <td>1.44</td>\n",
       "      <td>Daba RC II</td>\n",
       "    </tr>\n",
       "    <tr>\n",
       "      <th>...</th>\n",
       "      <td>...</td>\n",
       "      <td>...</td>\n",
       "      <td>...</td>\n",
       "      <td>...</td>\n",
       "      <td>...</td>\n",
       "      <td>...</td>\n",
       "      <td>...</td>\n",
       "      <td>...</td>\n",
       "    </tr>\n",
       "    <tr>\n",
       "      <th>436</th>\n",
       "      <td>437</td>\n",
       "      <td>9.95</td>\n",
       "      <td>5.18</td>\n",
       "      <td>3.08</td>\n",
       "      <td>23.35</td>\n",
       "      <td>26.7</td>\n",
       "      <td>0.99</td>\n",
       "      <td>Daba RC III</td>\n",
       "    </tr>\n",
       "    <tr>\n",
       "      <th>437</th>\n",
       "      <td>438</td>\n",
       "      <td>11.98</td>\n",
       "      <td>5.22</td>\n",
       "      <td>3.20</td>\n",
       "      <td>24.74</td>\n",
       "      <td>30.9</td>\n",
       "      <td>1.55</td>\n",
       "      <td>Daba RC I</td>\n",
       "    </tr>\n",
       "    <tr>\n",
       "      <th>438</th>\n",
       "      <td>439</td>\n",
       "      <td>12.68</td>\n",
       "      <td>5.39</td>\n",
       "      <td>3.26</td>\n",
       "      <td>25.86</td>\n",
       "      <td>37.5</td>\n",
       "      <td>1.75</td>\n",
       "      <td>Daba RC I</td>\n",
       "    </tr>\n",
       "    <tr>\n",
       "      <th>439</th>\n",
       "      <td>440</td>\n",
       "      <td>11.53</td>\n",
       "      <td>5.25</td>\n",
       "      <td>2.96</td>\n",
       "      <td>22.42</td>\n",
       "      <td>29.6</td>\n",
       "      <td>1.51</td>\n",
       "      <td>Daba RC II</td>\n",
       "    </tr>\n",
       "    <tr>\n",
       "      <th>440</th>\n",
       "      <td>441</td>\n",
       "      <td>10.59</td>\n",
       "      <td>5.30</td>\n",
       "      <td>3.10</td>\n",
       "      <td>23.97</td>\n",
       "      <td>30.9</td>\n",
       "      <td>1.46</td>\n",
       "      <td>Daba RC II</td>\n",
       "    </tr>\n",
       "  </tbody>\n",
       "</table>\n",
       "<p>441 rows × 8 columns</p>\n",
       "</div>"
      ],
      "text/plain": [
       "     S.No.  Cocoon Weight (gm)  Cocoon length(cm)  mean width(cm)  \\\n",
       "0        1                9.35               5.01            3.01   \n",
       "1        2                2.87               5.00            3.01   \n",
       "2        3                8.44               5.02            3.01   \n",
       "3        4               12.87               5.16            3.03   \n",
       "4        5               11.28               5.00            3.13   \n",
       "..     ...                 ...                ...             ...   \n",
       "436    437                9.95               5.18            3.08   \n",
       "437    438               11.98               5.22            3.20   \n",
       "438    439               12.68               5.39            3.26   \n",
       "439    440               11.53               5.25            2.96   \n",
       "440    441               10.59               5.30            3.10   \n",
       "\n",
       "     Cross sectional Area (cm2)  Cocoon Volume (cm3)  Shell Weight (gm)  \\\n",
       "0                         22.14                 24.7               1.45   \n",
       "1                         22.16                 25.3               1.17   \n",
       "2                         22.22                 25.8               1.33   \n",
       "3                         22.79                 31.4               1.77   \n",
       "4                         23.29                 29.0               1.44   \n",
       "..                          ...                  ...                ...   \n",
       "436                       23.35                 26.7               0.99   \n",
       "437                       24.74                 30.9               1.55   \n",
       "438                       25.86                 37.5               1.75   \n",
       "439                       22.42                 29.6               1.51   \n",
       "440                       23.97                 30.9               1.46   \n",
       "\n",
       "        Category  \n",
       "0     Daba RC II  \n",
       "1    Daba RC III  \n",
       "2     Daba RC II  \n",
       "3      Daba RC I  \n",
       "4     Daba RC II  \n",
       "..           ...  \n",
       "436  Daba RC III  \n",
       "437    Daba RC I  \n",
       "438    Daba RC I  \n",
       "439   Daba RC II  \n",
       "440   Daba RC II  \n",
       "\n",
       "[441 rows x 8 columns]"
      ]
     },
     "execution_count": 22,
     "metadata": {},
     "output_type": "execute_result"
    }
   ],
   "source": [
    "data = pd.read_csv('C:/Users/KIIT/Desktop/Research/CTR&TI/Models/dataset/The_final_dataset_1.csv')\n",
    "data"
   ]
  },
  {
   "cell_type": "code",
   "execution_count": 27,
   "id": "c1862e75-f1c2-422b-b576-e44bc8746b13",
   "metadata": {
    "tags": []
   },
   "outputs": [],
   "source": [
    "X = data[['Cocoon Volume (cm3)']].values\n",
    "y = data['Shell Weight (gm)'].values"
   ]
  },
  {
   "cell_type": "code",
   "execution_count": 29,
   "id": "dc0bb85e-7dad-43b7-a4d5-bc475c72f5cc",
   "metadata": {
    "tags": []
   },
   "outputs": [],
   "source": [
    "alpha_values = np.logspace(-3, 0, 100)\n",
    "model_lasso = Lasso()\n",
    "param_grid = {'alpha':alpha_values}\n",
    "mse_scoring = make_scorer(mean_squared_error, greater_is_better = False)\n",
    "r2_scoring = make_scorer(r2_score, greater_is_better = True)\n",
    "scorers = {\n",
    "    'mse': mse_scoring,\n",
    "    'r2': r2_scoring\n",
    "}\n",
    "grid_search = GridSearchCV(estimator = model_lasso, param_grid=param_grid, cv=5, scoring=scorers, refit='r2', n_jobs=-1, verbose=2)"
   ]
  },
  {
   "cell_type": "code",
   "execution_count": 31,
   "id": "94c81d9c-c33a-49f0-9f61-590816755399",
   "metadata": {
    "tags": []
   },
   "outputs": [
    {
     "name": "stdout",
     "output_type": "stream",
     "text": [
      "Fitting 5 folds for each of 100 candidates, totalling 500 fits\n",
      "Best alpha value: {'alpha': 0.01519911082952934}\n"
     ]
    }
   ],
   "source": [
    "grid_search.fit(X, y)\n",
    "best_alpha = grid_search.best_params_\n",
    "print(f'Best alpha value: {best_alpha}')\n",
    "best_lasso_model = grid_search.best_estimator_\n"
   ]
  },
  {
   "cell_type": "code",
   "execution_count": 47,
   "id": "d9689722-42d4-4c5b-9095-161d213f7797",
   "metadata": {
    "tags": []
   },
   "outputs": [
    {
     "name": "stdout",
     "output_type": "stream",
     "text": [
      "Mse: 0.05135393355417692\n",
      "Mse: 0.0391348398756368\n",
      "Mse: 0.0542525936840478\n",
      "Mse: 0.042443422003057125\n",
      "Mse: 0.039105287105998005\n",
      "0.045258015244583324\n",
      "0.4411379690505612\n",
      "Average Training Error: 0.044442353616790574\n",
      "Average Validation Error: 0.045258015244583324\n",
      "Average Training Error: 0.45757295659418296\n",
      "Average Validation Error: 0.4411379690505612\n"
     ]
    }
   ],
   "source": [
    "\n",
    "k = 5\n",
    "kf = KFold(n_splits=k, shuffle=True, random_state=42)\n",
    "\n",
    "# Lists to store the scores for each fold\n",
    "training_errors = []\n",
    "validation_errors = []\n",
    "training_r2 = []\n",
    "validation_r2 = []\n",
    "\n",
    "# Perform K-Fold Cross-Validation\n",
    "for train_index, val_index in kf.split(X):\n",
    "    X_train, X_val = X[train_index], X[val_index]\n",
    "    y_train, y_val = y[train_index], y[val_index]\n",
    "    \n",
    "    # Train the model\n",
    "    best_lasso_model.fit(X_train, y_train)\n",
    "    \n",
    "    # Make predictions\n",
    "    y_train_pred = best_lasso_model.predict(X_train)\n",
    "    y_val_pred = best_lasso_model.predict(X_val)\n",
    "    \n",
    "    # Calculate and store the errors\n",
    "    train_error = mean_squared_error(y_train, y_train_pred)\n",
    "    # print(\"Mse:\",train_error)\n",
    "    val_error = mean_squared_error(y_val, y_val_pred)\n",
    "    print(\"Mse:\",val_error)\n",
    "    \n",
    "    train_r2 = r2_score(y_train, y_train_pred)\n",
    "    val_r2 = r2_score(y_val, y_val_pred)\n",
    "    \n",
    "    training_errors.append(train_error)\n",
    "    validation_errors.append(val_error)\n",
    "    \n",
    "    training_r2.append(train_r2)\n",
    "    validation_r2.append(val_r2)\n",
    "\n",
    "# Calculate average errors\n",
    "avg_train_error = np.mean(training_errors)\n",
    "avg_val_error = np.mean(validation_errors)\n",
    "print(avg_val_error)\n",
    "\n",
    "avg_train_r2 = np.mean(training_r2)\n",
    "avg_val_r2 = np.mean(validation_r2)\n",
    "print(avg_val_r2)\n",
    "print(f'Average Training Error: {avg_train_error}')\n",
    "print(f'Average Validation Error: {avg_val_error}')\n",
    "\n",
    "\n",
    "print(f'Average Training Error: {avg_train_r2}')\n",
    "print(f'Average Validation Error: {avg_val_r2}')\n",
    "\n"
   ]
  },
  {
   "cell_type": "code",
   "execution_count": 39,
   "id": "fece51a6-ad26-41f3-8bba-037d8da1a04d",
   "metadata": {
    "tags": []
   },
   "outputs": [
    {
     "data": {
      "image/png": "[encoded data removed]",
      "text/plain": [
       "<Figure size 1000x600 with 1 Axes>"
      ]
     },
     "metadata": {},
     "output_type": "display_data"
    }
   ],
   "source": [
    "def plot_learning_curve(estimator, X, y, cv, scoring, n_jobs):\n",
    "    train_sizes, train_scores, test_scores = learning_curve(estimator, X, y, cv=cv, scoring=scoring, n_jobs=n_jobs, train_sizes=np.linspace(0.1, 1.0, 10))\n",
    "    \n",
    "    train_scores_mean = np.mean(train_scores, axis=1)\n",
    "    train_scores_std = np.std(train_scores, axis=1)\n",
    "    test_scores_mean = np.mean(test_scores, axis=1)\n",
    "    test_scores_std = np.std(test_scores, axis=1)\n",
    "\n",
    "    plt.figure(figsize=(10, 6))\n",
    "    plt.grid()\n",
    "\n",
    "    plt.fill_between(train_sizes, train_scores_mean - train_scores_std,\n",
    "                     train_scores_mean + train_scores_std, alpha=0.1,\n",
    "                     color=\"r\")\n",
    "    plt.fill_between(train_sizes, test_scores_mean - test_scores_std,\n",
    "                     test_scores_mean + test_scores_std, alpha=0.1, color=\"g\")\n",
    "    plt.plot(train_sizes, train_scores_mean, 'o-', color=\"r\",\n",
    "             label=\"Training score\")\n",
    "    plt.plot(train_sizes, test_scores_mean, 'o-', color=\"g\",\n",
    "             label=\"Cross-validation score\")\n",
    "\n",
    "    plt.xlabel(\"Training examples\")\n",
    "    plt.ylabel(\"neg_mean_squared_error\")\n",
    "    plt.title(\"Learning Curve\")\n",
    "    plt.legend(loc=\"best\")\n",
    "    plt.show()\n",
    "\n",
    "# Plotting the learning curve for Lasso regression\n",
    "plot_learning_curve(best_lasso_model, X, y, cv=10, scoring='neg_mean_squared_error', n_jobs=-1)\n",
    "\n"
   ]
  },
  {
   "cell_type": "code",
   "execution_count": 52,
   "id": "4cdb09fd-5a57-41d0-810b-d09625cb36b9",
   "metadata": {
    "tags": []
   },
   "outputs": [
    {
     "data": {
      "text/plain": [
       "['Shell_Weight_predictor_1.joblib']"
      ]
     },
     "execution_count": 52,
     "metadata": {},
     "output_type": "execute_result"
    }
   ],
   "source": [
    "joblib.dump(best_lasso_model, \"Shell_Weight_predictor_1.joblib\")"
   ]
  },
  {
   "cell_type": "code",
   "execution_count": 83,
   "id": "3fb84434-c82a-4a07-bc3e-e0343196efbd",
   "metadata": {
    "tags": []
   },
   "outputs": [
    {
     "data": {
      "text/plain": [
       "['Shell_Weight_predictor_2.joblib']"
      ]
     },
     "execution_count": 83,
     "metadata": {},
     "output_type": "execute_result"
    }
   ],
   "source": [
    "joblib.dump(best_lasso_model, \"Shell_Weight_predictor_2.joblib\")"
   ]
  },
  {
   "cell_type": "code",
   "execution_count": null,
   "id": "8867f685-d922-4a23-b3aa-a3df9df25b4b",
   "metadata": {},
   "outputs": [],
   "source": []
  }
 ],
 "metadata": {
  "kernelspec": {
   "display_name": "Python 3 (ipykernel)",
   "language": "python",
   "name": "python3"
  },
  "language_info": {
   "codemirror_mode": {
    "name": "ipython",
    "version": 3
   },
   "file_extension": ".py",
   "mimetype": "text/x-python",
   "name": "python",
   "nbconvert_exporter": "python",
   "pygments_lexer": "ipython3",
   "version": "3.12.4"
  }
 },
 "nbformat": 4,
 "nbformat_minor": 5
}
